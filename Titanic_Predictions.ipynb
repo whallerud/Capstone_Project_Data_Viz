{
 "cells": [
  {
   "cell_type": "code",
   "execution_count": null,
   "id": "aa5cd079",
   "metadata": {},
   "outputs": [],
   "source": [
    "import pandas as pd\n",
    "import numpy as np\n",
    "\n",
    "from sklearn.model_selection import train_test_split\n",
    "from sklearn.linear_model import LogisticRegression\n",
    "from sklearn.ensemble import RandomForestClassifier\n",
    "from sklearn.neighbors import KNeighborsClassifier\n",
    "from sklearn.metrics import accuracy_score, classification_report\n",
    "from sklearn.preprocessing import StandardScaler, LabelEncoder\n",
    "\n",
    "from sqlalchemy import create_engine\n"
   ]
  },
  {
   "cell_type": "code",
   "execution_count": null,
   "id": "5437f616",
   "metadata": {},
   "outputs": [],
   "source": [
    "# Load training dataset (uploaded 'train.csv')\n",
    "df = pd.read_csv('/mnt/data/train.csv')  # Adjust path if needed\n",
    "df.head()"
   ]
  },
  {
   "cell_type": "code",
   "execution_count": null,
   "id": "5cd9b19d",
   "metadata": {},
   "outputs": [],
   "source": [
    "# Drop unnecessary columns\n",
    "df.drop(columns=['PassengerId', 'Name', 'Ticket', 'Cabin'], inplace=True)\n",
    "\n",
    "# Fill missing values\n",
    "df['Age'].fillna(df['Age'].median(), inplace=True)\n",
    "df['Embarked'].fillna(df['Embarked'].mode()[0], inplace=True)\n",
    "\n",
    "# Encode categorical features\n",
    "df['Sex'] = LabelEncoder().fit_transform(df['Sex'])\n",
    "df['Embarked'] = LabelEncoder().fit_transform(df['Embarked'])\n",
    "\n",
    "# Normalize numerical columns\n",
    "scaler = StandardScaler()\n",
    "df[['Age', 'Fare']] = scaler.fit_transform(df[['Age', 'Fare']])"
   ]
  },
  {
   "cell_type": "code",
   "execution_count": null,
   "id": "8a898ed1",
   "metadata": {},
   "outputs": [],
   "source": [
    "X = df.drop('Survived', axis=1)\n",
    "y = df['Survived']\n",
    "\n",
    "X_train, X_test, y_train, y_test = train_test_split(X, y, test_size=0.2, random_state=42)\n"
   ]
  },
  {
   "cell_type": "code",
   "execution_count": null,
   "id": "e6f0034f",
   "metadata": {},
   "outputs": [],
   "source": [
    "model_results = []\n",
    "\n",
    "# Logistic Regression\n",
    "log_reg = LogisticRegression(max_iter=1000)\n",
    "log_reg.fit(X_train, y_train)\n",
    "log_preds = log_reg.predict(X_test)\n",
    "log_acc = accuracy_score(y_test, log_preds)\n",
    "model_results.append({\n",
    "    'Model': 'Logistic Regression',\n",
    "    'Params': 'max_iter=1000',\n",
    "    'Accuracy': round(log_acc * 100, 2)\n",
    "})\n",
    "\n",
    "# Random Forest\n",
    "rf = RandomForestClassifier(n_estimators=100, max_depth=5, random_state=42)\n",
    "rf.fit(X_train, y_train)\n",
    "rf_preds = rf.predict(X_test)\n",
    "rf_acc = accuracy_score(y_test, rf_preds)\n",
    "model_results.append({\n",
    "    'Model': 'Random Forest',\n",
    "    'Params': 'n_estimators=100, max_depth=5',\n",
    "    'Accuracy': round(rf_acc * 100, 2)\n",
    "})\n",
    "\n",
    "# K-Nearest Neighbors\n",
    "knn = KNeighborsClassifier(n_neighbors=3)\n",
    "knn.fit(X_train, y_train)\n",
    "knn_preds = knn.predict(X_test)\n",
    "knn_acc = accuracy_score(y_test, knn_preds)\n",
    "model_results.append({\n",
    "    'Model': 'K-Nearest Neighbors',\n",
    "    'Params': 'n_neighbors=3',\n",
    "    'Accuracy': round(knn_acc * 100, 2)\n",
    "})\n"
   ]
  },
  {
   "cell_type": "code",
   "execution_count": null,
   "id": "58f8d983",
   "metadata": {},
   "outputs": [],
   "source": [
    "results_df = pd.DataFrame(model_results)\n",
    "results_df.to_csv('model_results.csv', index=False)\n",
    "\n",
    "print(\"✅ Model comparisons saved to model_results.csv\")\n",
    "results_df\n"
   ]
  },
  {
   "cell_type": "code",
   "execution_count": null,
   "id": "a799c641",
   "metadata": {},
   "outputs": [],
   "source": [
    "# ⚠️ Update these credentials before running\n",
    "db_user = 'your_username'\n",
    "db_password = 'your_password'\n",
    "db_host = 'localhost'\n",
    "db_port = '5432'\n",
    "db_name = 'your_database_name'\n",
    "\n",
    "# Use format() if f-strings are not supported\n",
    "connection_string = 'postgresql://{}:{}@{}:{}/{}'.format(\n",
    "    db_user, db_password, db_host, db_port, db_name\n",
    ")\n",
    "engine = create_engine(connection_string)\n",
    "\n",
    "df.to_sql('titanic_data', engine, if_exists='replace', index=False)\n",
    "print(\"✅ Cleaned data saved to PostgreSQL.\")\n",
    "engine.dispose()  # Close the connection\n",
    "print(\"✅ Connection closed.\")"
   ]
  }
 ],
 "metadata": {
  "language_info": {
   "name": "python"
  }
 },
 "nbformat": 4,
 "nbformat_minor": 5
}
